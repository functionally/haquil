{
 "cells": [
  {
   "cell_type": "code",
   "execution_count": 1,
   "metadata": {},
   "outputs": [],
   "source": [
    "import sys\n",
    "sys.path.insert(-1, \"/home/bbush/.local/lib/python3.6/site-packages\")"
   ]
  },
  {
   "cell_type": "code",
   "execution_count": 2,
   "metadata": {},
   "outputs": [],
   "source": [
    "from pyquil.quil import Program\n",
    "import pyquil.api as api\n",
    "from pyquil.gates import *\n",
    "import numpy as np"
   ]
  },
  {
   "cell_type": "code",
   "execution_count": 3,
   "metadata": {},
   "outputs": [],
   "source": [
    "qvm = api.QVMConnection()"
   ]
  },
  {
   "cell_type": "code",
   "execution_count": 4,
   "metadata": {},
   "outputs": [
    {
     "name": "stdout",
     "output_type": "stream",
     "text": [
      "(0.7071067812+0j)|00> + (0.7071067812+0j)|11>\n"
     ]
    }
   ],
   "source": [
    "p = Program()\n",
    "p.inst(H(0), CNOT(0, 1))\n",
    "wavefunction = qvm.wavefunction(p)\n",
    "print(wavefunction)"
   ]
  },
  {
   "cell_type": "code",
   "execution_count": 5,
   "metadata": {},
   "outputs": [],
   "source": [
    "t = {\n",
    "      \"<0|\" : Program()\n",
    "    , \"<1|\" : Program(X(0))\n",
    "    , \"<00|\" : Program(I(0), I(1))\n",
    "    , \"<01|\" : Program(I(1), X(0))\n",
    "    , \"<10|\" : Program(I(0), X(1))\n",
    "    , \"<11|\" : Program(X(0), X(1))\n",
    "    , \"<000|\" : Program(I(0), I(1), I(2))\n",
    "    , \"<001|\" : Program(I(1), X(0), I(2))\n",
    "    , \"<010|\" : Program(I(0), X(1), I(2))\n",
    "    , \"<011|\" : Program(X(0), X(1), I(2))\n",
    "    , \"<100|\" : Program(I(0), I(1), X(2))\n",
    "    , \"<101|\" : Program(I(1), X(0), X(2))\n",
    "    , \"<110|\" : Program(X(1), I(0), X(2))\n",
    "    , \"<111|\" : Program(X(0), X(1), X(2))\n",
    "    }"
   ]
  },
  {
   "cell_type": "code",
   "execution_count": 6,
   "metadata": {},
   "outputs": [
    {
     "name": "stdout",
     "output_type": "stream",
     "text": [
      "-1j|0>\n"
     ]
    }
   ],
   "source": [
    "p = Program(X(0), Y(0))\n",
    "print(qvm.wavefunction(p))"
   ]
  },
  {
   "cell_type": "code",
   "execution_count": 11,
   "metadata": {},
   "outputs": [
    {
     "name": "stdout",
     "output_type": "stream",
     "text": [
      "I\n",
      "( (1+0j)|0> ) <0|\n",
      "( (1+0j)|1> ) <1|\n",
      "X\n",
      "( (1+0j)|1> ) <0|\n",
      "( (1+0j)|0> ) <1|\n",
      "Y\n",
      "( 1j|1> ) <0|\n",
      "( -1j|0> ) <1|\n",
      "Z\n",
      "( (1+0j)|0> ) <0|\n",
      "( (-1+0j)|1> ) <1|\n",
      "H\n",
      "( (0.7071067812+0j)|0> + (0.7071067812+0j)|1> ) <0|\n",
      "( (0.7071067812+0j)|0> + (-0.7071067812+0j)|1> ) <1|\n",
      "PHASE\n",
      "( (1+0j)|0> ) <0|\n",
      "( (0.8560538887+0.5168865829j)|1> ) <1|\n",
      "S\n",
      "( (1+0j)|0> ) <0|\n",
      "( 1j|1> ) <1|\n",
      "T\n",
      "( (1+0j)|0> ) <0|\n",
      "( (0.7071067812+0.7071067812j)|1> ) <1|\n",
      "RX\n",
      "( (0.9633415512+0j)|0> + -0.2682779448j|1> ) <0|\n",
      "( -0.2682779448j|0> + (0.9633415512+0j)|1> ) <1|\n",
      "RY\n",
      "( (0.9633415512+0j)|0> + (0.2682779448+0j)|1> ) <0|\n",
      "( (-0.2682779448+0j)|0> + (0.9633415512+0j)|1> ) <1|\n",
      "RZ\n",
      "( (0.9633415512-0.2682779448j)|0> ) <0|\n",
      "( (0.9633415512+0.2682779448j)|1> ) <1|\n"
     ]
    }
   ],
   "source": [
    "theta = 0.54321\n",
    "tt = [\n",
    "       (\"I\", I(0))\n",
    "     , (\"X\", X(0))\n",
    "     , (\"Y\", Y(0))\n",
    "     , (\"Z\", Z(0))\n",
    "     , (\"H\", H(0))\n",
    "     , (\"PHASE\", PHASE(theta, 0))\n",
    "     , (\"S\", S(0))\n",
    "     , (\"T\", T(0))\n",
    "     , (\"RX\", RX(theta, 0))\n",
    "     , (\"RY\", RY(theta, 0))\n",
    "     , (\"RZ\", RZ(theta, 0))\n",
    "     ]\n",
    "for (l, o) in tt:\n",
    "    print(l)\n",
    "    for w in [\"<0|\", \"<1|\"]:\n",
    "        p = Program(t[w], o)\n",
    "        print(\"(\", qvm.wavefunction(p), \")\", w)"
   ]
  },
  {
   "cell_type": "code",
   "execution_count": 13,
   "metadata": {},
   "outputs": [
    {
     "name": "stdout",
     "output_type": "stream",
     "text": [
      "CPHASE00\n",
      "( (0.8560538887+0.5168865829j)|00> ) <00|\n",
      "( (1+0j)|10> ) <10|\n",
      "( (1+0j)|01> ) <01|\n",
      "( (1+0j)|11> ) <11|\n",
      "CPHASE01\n",
      "( (1+0j)|00> ) <00|\n",
      "( (0.8560538887+0.5168865829j)|10> ) <10|\n",
      "( (1+0j)|01> ) <01|\n",
      "( (1+0j)|11> ) <11|\n",
      "CPHASE10\n",
      "( (1+0j)|00> ) <00|\n",
      "( (1+0j)|10> ) <10|\n",
      "( (0.8560538887+0.5168865829j)|01> ) <01|\n",
      "( (1+0j)|11> ) <11|\n",
      "CPHASE\n",
      "( (1+0j)|00> ) <00|\n",
      "( (1+0j)|10> ) <10|\n",
      "( (1+0j)|01> ) <01|\n",
      "( (0.8560538887+0.5168865829j)|11> ) <11|\n",
      "CNOT\n",
      "( (1+0j)|00> ) <00|\n",
      "( (1+0j)|10> ) <10|\n",
      "( (1+0j)|11> ) <01|\n",
      "( (1+0j)|01> ) <11|\n",
      "PSWAP\n",
      "( (1+0j)|00> ) <00|\n",
      "( (0.8560538887+0.5168865829j)|01> ) <10|\n",
      "( (0.8560538887+0.5168865829j)|10> ) <01|\n",
      "( (1+0j)|11> ) <11|\n",
      "SWAP\n",
      "( (1+0j)|00> ) <00|\n",
      "( (1+0j)|01> ) <10|\n",
      "( (1+0j)|10> ) <01|\n",
      "( (1+0j)|11> ) <11|\n",
      "ISWAP\n",
      "( (1+0j)|00> ) <00|\n",
      "( 1j|01> ) <10|\n",
      "( 1j|10> ) <01|\n",
      "( (1+0j)|11> ) <11|\n",
      "CZ\n",
      "( (1+0j)|00> ) <00|\n",
      "( (1+0j)|10> ) <10|\n",
      "( (1+0j)|01> ) <01|\n",
      "( (-1+0j)|11> ) <11|\n"
     ]
    }
   ],
   "source": [
    "tt = [\n",
    "       (\"CPHASE00\", CPHASE00(theta,0,1))\n",
    "     , (\"CPHASE01\", CPHASE01(theta,0,1))\n",
    "     , (\"CPHASE10\", CPHASE10(theta,0,1))\n",
    "     , (\"CPHASE\", CPHASE(theta,0,1))\n",
    "     , (\"CNOT\", CNOT(0,1))\n",
    "     , (\"PSWAP\", PSWAP(theta,0,1))\n",
    "     , (\"SWAP\", SWAP(0,1))\n",
    "     , (\"ISWAP\", ISWAP(0,1))\n",
    "     , (\"CZ\", CZ(0,1))\n",
    "     ]\n",
    "for (l, o) in tt:\n",
    "    print(l)\n",
    "    for w in [\"<00|\", \"<10|\", \"<01|\", \"<11|\"]:\n",
    "        p = Program(t[w], o)\n",
    "        print(\"(\", qvm.wavefunction(p), \")\", w)"
   ]
  },
  {
   "cell_type": "code",
   "execution_count": 14,
   "metadata": {},
   "outputs": [
    {
     "name": "stdout",
     "output_type": "stream",
     "text": [
      "CCNOT\n",
      "( (1+0j)|000> ) <000|\n",
      "( (1+0j)|100> ) <100|\n",
      "( (1+0j)|010> ) <010|\n",
      "( (1+0j)|110> ) <110|\n",
      "( (1+0j)|001> ) <001|\n",
      "( (1+0j)|101> ) <101|\n",
      "( (1+0j)|111> ) <011|\n",
      "( (1+0j)|011> ) <111|\n",
      "CSWAP\n",
      "( (1+0j)|000> ) <000|\n",
      "( (1+0j)|100> ) <100|\n",
      "( (1+0j)|010> ) <010|\n",
      "( (1+0j)|110> ) <110|\n",
      "( (1+0j)|001> ) <001|\n",
      "( (1+0j)|011> ) <101|\n",
      "( (1+0j)|101> ) <011|\n",
      "( (1+0j)|111> ) <111|\n"
     ]
    }
   ],
   "source": [
    "tt = [\n",
    "       (\"CCNOT\", CCNOT(0,1,2))\n",
    "     , (\"CSWAP\", CSWAP(0,1,2))\n",
    "     ]\n",
    "for (l, o) in tt:\n",
    "    print(l)\n",
    "    for w in [\"<000|\", \"<100|\", \"<010|\", \"<110|\", \"<001|\", \"<101|\", \"<011|\", \"<111|\"]:\n",
    "        p = Program(t[w], o)\n",
    "        print(\"(\", qvm.wavefunction(p), \")\", w)"
   ]
  }
 ],
 "metadata": {
  "kernelspec": {
   "display_name": "Python 3",
   "language": "python",
   "name": "python3"
  },
  "language_info": {
   "codemirror_mode": {
    "name": "ipython",
    "version": 3
   },
   "file_extension": ".py",
   "mimetype": "text/x-python",
   "name": "python",
   "nbconvert_exporter": "python",
   "pygments_lexer": "ipython3",
   "version": "3.6.2"
  }
 },
 "nbformat": 4,
 "nbformat_minor": 2
}
