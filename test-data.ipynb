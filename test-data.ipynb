{
 "cells": [
  {
   "cell_type": "code",
   "execution_count": 1,
   "metadata": {},
   "outputs": [],
   "source": [
    "import sys\n",
    "sys.path.insert(-1, \"/home/bbush/.local/lib/python3.6/site-packages\")"
   ]
  },
  {
   "cell_type": "code",
   "execution_count": 2,
   "metadata": {},
   "outputs": [],
   "source": [
    "from pyquil.quil import Program\n",
    "import pyquil.api as api\n",
    "from pyquil.gates import *\n",
    "import numpy as np"
   ]
  },
  {
   "cell_type": "code",
   "execution_count": 3,
   "metadata": {},
   "outputs": [],
   "source": [
    "qvm = api.QVMConnection()"
   ]
  },
  {
   "cell_type": "code",
   "execution_count": 4,
   "metadata": {},
   "outputs": [],
   "source": [
    "t = {\n",
    "      \"|0>\"   : Program(            I(0))\n",
    "    , \"|1>\"   : Program(            X(0))\n",
    "    , \"|00>\"  : Program(      I(1), I(0))\n",
    "    , \"|01>\"  : Program(      I(1), X(0))\n",
    "    , \"|10>\"  : Program(      X(1), I(0))\n",
    "    , \"|11>\"  : Program(      X(1), X(0))\n",
    "    , \"|000>\" : Program(I(2), I(1), I(0))\n",
    "    , \"|001>\" : Program(I(2), I(1), X(0))\n",
    "    , \"|010>\" : Program(I(2), X(1), I(0))\n",
    "    , \"|011>\" : Program(I(2), X(1), X(0))\n",
    "    , \"|100>\" : Program(X(2), I(1), I(0))\n",
    "    , \"|101>\" : Program(X(2), I(1), X(0))\n",
    "    , \"|110>\" : Program(X(2), X(1), I(0))\n",
    "    , \"|111>\" : Program(X(2), X(1), X(0))\n",
    "    }"
   ]
  },
  {
   "cell_type": "code",
   "execution_count": 5,
   "metadata": {},
   "outputs": [
    {
     "name": "stdout",
     "output_type": "stream",
     "text": [
      "|0>  =  (1+0j)|0>\n",
      "|1>  =  (1+0j)|1>\n",
      "|00>  =  (1+0j)|00>\n",
      "|01>  =  (1+0j)|01>\n",
      "|10>  =  (1+0j)|10>\n",
      "|11>  =  (1+0j)|11>\n",
      "|000>  =  (1+0j)|000>\n",
      "|001>  =  (1+0j)|001>\n",
      "|010>  =  (1+0j)|010>\n",
      "|011>  =  (1+0j)|011>\n",
      "|100>  =  (1+0j)|100>\n",
      "|101>  =  (1+0j)|101>\n",
      "|110>  =  (1+0j)|110>\n",
      "|111>  =  (1+0j)|111>\n"
     ]
    }
   ],
   "source": [
    "for (l, o) in t.items():\n",
    "    print(l, \" = \", qvm.wavefunction(o))"
   ]
  },
  {
   "cell_type": "code",
   "execution_count": 6,
   "metadata": {},
   "outputs": [
    {
     "name": "stdout",
     "output_type": "stream",
     "text": [
      "\n",
      "I * |0> = (1+0j)|0>\n",
      "I * |1> = (1+0j)|1>\n",
      "\n",
      "X * |0> = (1+0j)|1>\n",
      "X * |1> = (1+0j)|0>\n",
      "\n",
      "Y * |0> = 1j|1>\n",
      "Y * |1> = -1j|0>\n",
      "\n",
      "Z * |0> = (1+0j)|0>\n",
      "Z * |1> = (-1+0j)|1>\n",
      "\n",
      "H * |0> = (0.7071067812+0j)|0> + (0.7071067812+0j)|1>\n",
      "H * |1> = (0.7071067812+0j)|0> + (-0.7071067812+0j)|1>\n",
      "\n",
      "PHASE * |0> = (1+0j)|0>\n",
      "PHASE * |1> = (0.8560538887+0.5168865829j)|1>\n",
      "\n",
      "S * |0> = (1+0j)|0>\n",
      "S * |1> = 1j|1>\n",
      "\n",
      "T * |0> = (1+0j)|0>\n",
      "T * |1> = (0.7071067812+0.7071067812j)|1>\n",
      "\n",
      "RX * |0> = (0.9633415512+0j)|0> + -0.2682779448j|1>\n",
      "RX * |1> = -0.2682779448j|0> + (0.9633415512+0j)|1>\n",
      "\n",
      "RY * |0> = (0.9633415512+0j)|0> + (0.2682779448+0j)|1>\n",
      "RY * |1> = (-0.2682779448+0j)|0> + (0.9633415512+0j)|1>\n",
      "\n",
      "RZ * |0> = (0.9633415512-0.2682779448j)|0>\n",
      "RZ * |1> = (0.9633415512+0.2682779448j)|1>\n"
     ]
    }
   ],
   "source": [
    "theta = 0.54321\n",
    "tt = [\n",
    "       (\"I\", I(0))\n",
    "     , (\"X\", X(0))\n",
    "     , (\"Y\", Y(0))\n",
    "     , (\"Z\", Z(0))\n",
    "     , (\"H\", H(0))\n",
    "     , (\"PHASE\", PHASE(theta, 0))\n",
    "     , (\"S\", S(0))\n",
    "     , (\"T\", T(0))\n",
    "     , (\"RX\", RX(theta, 0))\n",
    "     , (\"RY\", RY(theta, 0))\n",
    "     , (\"RZ\", RZ(theta, 0))\n",
    "     ]\n",
    "for (l, o) in tt:\n",
    "    print()\n",
    "    for w in [\"|0>\", \"|1>\"]:\n",
    "        p = Program(t[w], o)\n",
    "        print(l, \"*\", w, \"=\", qvm.wavefunction(p))"
   ]
  },
  {
   "cell_type": "code",
   "execution_count": 7,
   "metadata": {},
   "outputs": [
    {
     "name": "stdout",
     "output_type": "stream",
     "text": [
      "\n",
      "CPHASE00 * |00> = (0.8560538887+0.5168865829j)|00>\n",
      "CPHASE00 * |01> = (1+0j)|01>\n",
      "CPHASE00 * |10> = (1+0j)|10>\n",
      "CPHASE00 * |11> = (1+0j)|11>\n",
      "\n",
      "CPHASE01 * |00> = (1+0j)|00>\n",
      "CPHASE01 * |01> = (0.8560538887+0.5168865829j)|01>\n",
      "CPHASE01 * |10> = (1+0j)|10>\n",
      "CPHASE01 * |11> = (1+0j)|11>\n",
      "\n",
      "CPHASE10 * |00> = (1+0j)|00>\n",
      "CPHASE10 * |01> = (1+0j)|01>\n",
      "CPHASE10 * |10> = (0.8560538887+0.5168865829j)|10>\n",
      "CPHASE10 * |11> = (1+0j)|11>\n",
      "\n",
      "CPHASE * |00> = (1+0j)|00>\n",
      "CPHASE * |01> = (1+0j)|01>\n",
      "CPHASE * |10> = (1+0j)|10>\n",
      "CPHASE * |11> = (0.8560538887+0.5168865829j)|11>\n",
      "\n",
      "CNOT * |00> = (1+0j)|00>\n",
      "CNOT * |01> = (1+0j)|01>\n",
      "CNOT * |10> = (1+0j)|11>\n",
      "CNOT * |11> = (1+0j)|10>\n",
      "\n",
      "PSWAP * |00> = (1+0j)|00>\n",
      "PSWAP * |01> = (0.8560538887+0.5168865829j)|10>\n",
      "PSWAP * |10> = (0.8560538887+0.5168865829j)|01>\n",
      "PSWAP * |11> = (1+0j)|11>\n",
      "\n",
      "SWAP * |00> = (1+0j)|00>\n",
      "SWAP * |01> = (1+0j)|10>\n",
      "SWAP * |10> = (1+0j)|01>\n",
      "SWAP * |11> = (1+0j)|11>\n",
      "\n",
      "ISWAP * |00> = (1+0j)|00>\n",
      "ISWAP * |01> = 1j|10>\n",
      "ISWAP * |10> = 1j|01>\n",
      "ISWAP * |11> = (1+0j)|11>\n",
      "\n",
      "CZ * |00> = (1+0j)|00>\n",
      "CZ * |01> = (1+0j)|01>\n",
      "CZ * |10> = (1+0j)|10>\n",
      "CZ * |11> = (-1+0j)|11>\n"
     ]
    }
   ],
   "source": [
    "tt = [\n",
    "       (\"CPHASE00\", CPHASE00(theta,1,0))\n",
    "     , (\"CPHASE01\", CPHASE01(theta,1,0))\n",
    "     , (\"CPHASE10\", CPHASE10(theta,1,0))\n",
    "     , (\"CPHASE\", CPHASE(theta,1,0))\n",
    "     , (\"CNOT\", CNOT(1,0))\n",
    "     , (\"PSWAP\", PSWAP(theta,1,0))\n",
    "     , (\"SWAP\", SWAP(1,0))\n",
    "     , (\"ISWAP\", ISWAP(1,0))\n",
    "     , (\"CZ\", CZ(0,1))\n",
    "     ]\n",
    "for (l, o) in tt:\n",
    "    print()\n",
    "    for w in [\"|00>\", \"|01>\", \"|10>\", \"|11>\"]:\n",
    "        p = Program(t[w], o)\n",
    "        print(l, \"*\", w, \"=\", qvm.wavefunction(p))"
   ]
  },
  {
   "cell_type": "code",
   "execution_count": 8,
   "metadata": {},
   "outputs": [
    {
     "name": "stdout",
     "output_type": "stream",
     "text": [
      "\n",
      "CCNOT * |000> = (1+0j)|000>\n",
      "CCNOT * |001> = (1+0j)|001>\n",
      "CCNOT * |010> = (1+0j)|010>\n",
      "CCNOT * |011> = (1+0j)|011>\n",
      "CCNOT * |100> = (1+0j)|100>\n",
      "CCNOT * |101> = (1+0j)|101>\n",
      "CCNOT * |110> = (1+0j)|111>\n",
      "CCNOT * |111> = (1+0j)|110>\n",
      "\n",
      "CSWAP * |000> = (1+0j)|000>\n",
      "CSWAP * |001> = (1+0j)|001>\n",
      "CSWAP * |010> = (1+0j)|010>\n",
      "CSWAP * |011> = (1+0j)|011>\n",
      "CSWAP * |100> = (1+0j)|100>\n",
      "CSWAP * |101> = (1+0j)|110>\n",
      "CSWAP * |110> = (1+0j)|101>\n",
      "CSWAP * |111> = (1+0j)|111>\n"
     ]
    }
   ],
   "source": [
    "tt = [\n",
    "       (\"CCNOT\", CCNOT(2,1,0))\n",
    "     , (\"CSWAP\", CSWAP(2,1,0))\n",
    "     ]\n",
    "for (l, o) in tt:\n",
    "    print()\n",
    "    for w in [\"|000>\", \"|001>\", \"|010>\", \"|011>\", \"|100>\", \"|101>\", \"|110>\", \"|111>\"]:\n",
    "        p = Program(t[w], o)\n",
    "        print(l, \"*\", w, \"=\", qvm.wavefunction(p))"
   ]
  },
  {
   "cell_type": "code",
   "execution_count": 9,
   "metadata": {},
   "outputs": [
    {
     "name": "stdout",
     "output_type": "stream",
     "text": [
      "(0.5+0j)|00> + (0.2701511529+0.4207354924j)|01> + (0.0353686008+0.4987474933j)|10> + (0.4387912809+0.2397127693j)|11>\n"
     ]
    }
   ],
   "source": [
    "print(qvm.wavefunction(Program(H(1), PSWAP(0.5, 1, 0), H(1), PSWAP(1, 1, 0))))"
   ]
  }
 ],
 "metadata": {
  "kernelspec": {
   "display_name": "Python 3",
   "language": "python",
   "name": "python3"
  },
  "language_info": {
   "codemirror_mode": {
    "name": "ipython",
    "version": 3
   },
   "file_extension": ".py",
   "mimetype": "text/x-python",
   "name": "python",
   "nbconvert_exporter": "python",
   "pygments_lexer": "ipython3",
   "version": "3.6.2"
  }
 },
 "nbformat": 4,
 "nbformat_minor": 2
}
