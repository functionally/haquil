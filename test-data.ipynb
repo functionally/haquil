{
 "cells": [
  {
   "cell_type": "code",
   "execution_count": 1,
   "metadata": {
    "collapsed": true
   },
   "outputs": [],
   "source": [
    "import sys\n",
    "sys.path.insert(-1, \"/home/bbush/.local/lib/python3.6/site-packages\")"
   ]
  },
  {
   "cell_type": "code",
   "execution_count": 2,
   "metadata": {
    "collapsed": true
   },
   "outputs": [],
   "source": [
    "from pyquil.quil import Program\n",
    "import pyquil.api as api\n",
    "from pyquil.gates import *\n",
    "import numpy as np"
   ]
  },
  {
   "cell_type": "code",
   "execution_count": 3,
   "metadata": {
    "collapsed": true
   },
   "outputs": [],
   "source": [
    "qvm = api.QVMConnection()"
   ]
  },
  {
   "cell_type": "code",
   "execution_count": 4,
   "metadata": {
    "collapsed": true
   },
   "outputs": [],
   "source": [
    "t = {\n",
    "      \"|0>\"   : Program(            I(0))\n",
    "    , \"|1>\"   : Program(            X(0))\n",
    "    , \"|00>\"  : Program(      I(1), I(0))\n",
    "    , \"|01>\"  : Program(      I(1), X(0))\n",
    "    , \"|10>\"  : Program(      X(1), I(0))\n",
    "    , \"|11>\"  : Program(      X(1), X(0))\n",
    "    , \"|000>\" : Program(I(2), I(1), I(0))\n",
    "    , \"|001>\" : Program(I(2), I(1), X(0))\n",
    "    , \"|010>\" : Program(I(2), X(1), I(0))\n",
    "    , \"|011>\" : Program(I(2), X(1), X(0))\n",
    "    , \"|100>\" : Program(X(2), I(1), I(0))\n",
    "    , \"|101>\" : Program(X(2), I(1), X(0))\n",
    "    , \"|110>\" : Program(X(2), X(1), I(0))\n",
    "    , \"|111>\" : Program(X(2), X(1), X(0))\n",
    "    }"
   ]
  },
  {
   "cell_type": "code",
   "execution_count": 5,
   "metadata": {},
   "outputs": [
    {
     "name": "stdout",
     "output_type": "stream",
     "text": [
      "|0>  =  (1+0j)|0>\n",
      "|1>  =  (1+0j)|1>\n",
      "|00>  =  (1+0j)|00>\n",
      "|01>  =  (1+0j)|01>\n",
      "|10>  =  (1+0j)|10>\n",
      "|11>  =  (1+0j)|11>\n",
      "|000>  =  (1+0j)|000>\n",
      "|001>  =  (1+0j)|001>\n",
      "|010>  =  (1+0j)|010>\n",
      "|011>  =  (1+0j)|011>\n",
      "|100>  =  (1+0j)|100>\n",
      "|101>  =  (1+0j)|101>\n",
      "|110>  =  (1+0j)|110>\n",
      "|111>  =  (1+0j)|111>\n"
     ]
    }
   ],
   "source": [
    "for (l, o) in t.items():\n",
    "    print(l, \" = \", qvm.wavefunction(o))"
   ]
  },
  {
   "cell_type": "code",
   "execution_count": 6,
   "metadata": {},
   "outputs": [
    {
     "name": "stdout",
     "output_type": "stream",
     "text": [
      "\n",
      "I * |0> = (1+0j)|0>\n",
      "I * |1> = (1+0j)|1>\n",
      "\n",
      "X * |0> = (1+0j)|1>\n",
      "X * |1> = (1+0j)|0>\n",
      "\n",
      "Y * |0> = 1j|1>\n",
      "Y * |1> = -1j|0>\n",
      "\n",
      "Z * |0> = (1+0j)|0>\n",
      "Z * |1> = (-1+0j)|1>\n",
      "\n",
      "H * |0> = (0.7071067812+0j)|0> + (0.7071067812+0j)|1>\n",
      "H * |1> = (0.7071067812+0j)|0> + (-0.7071067812+0j)|1>\n",
      "\n",
      "PHASE * |0> = (1+0j)|0>\n",
      "PHASE * |1> = (0.8560538887+0.5168865829j)|1>\n",
      "\n",
      "S * |0> = (1+0j)|0>\n",
      "S * |1> = 1j|1>\n",
      "\n",
      "T * |0> = (1+0j)|0>\n",
      "T * |1> = (0.7071067812+0.7071067812j)|1>\n",
      "\n",
      "RX * |0> = (0.9633415512+0j)|0> + -0.2682779448j|1>\n",
      "RX * |1> = -0.2682779448j|0> + (0.9633415512+0j)|1>\n",
      "\n",
      "RY * |0> = (0.9633415512+0j)|0> + (0.2682779448+0j)|1>\n",
      "RY * |1> = (-0.2682779448+0j)|0> + (0.9633415512+0j)|1>\n",
      "\n",
      "RZ * |0> = (0.9633415512-0.2682779448j)|0>\n",
      "RZ * |1> = (0.9633415512+0.2682779448j)|1>\n"
     ]
    }
   ],
   "source": [
    "theta = 0.54321\n",
    "tt = [\n",
    "       (\"I\", I(0))\n",
    "     , (\"X\", X(0))\n",
    "     , (\"Y\", Y(0))\n",
    "     , (\"Z\", Z(0))\n",
    "     , (\"H\", H(0))\n",
    "     , (\"PHASE\", PHASE(theta, 0))\n",
    "     , (\"S\", S(0))\n",
    "     , (\"T\", T(0))\n",
    "     , (\"RX\", RX(theta, 0))\n",
    "     , (\"RY\", RY(theta, 0))\n",
    "     , (\"RZ\", RZ(theta, 0))\n",
    "     ]\n",
    "for (l, o) in tt:\n",
    "    print()\n",
    "    for w in [\"|0>\", \"|1>\"]:\n",
    "        p = Program(t[w], o)\n",
    "        print(l, \"*\", w, \"=\", qvm.wavefunction(p))"
   ]
  },
  {
   "cell_type": "code",
   "execution_count": 7,
   "metadata": {},
   "outputs": [
    {
     "name": "stdout",
     "output_type": "stream",
     "text": [
      "\n",
      "CPHASE00 * |00> = (0.8560538887+0.5168865829j)|00>\n",
      "CPHASE00 * |01> = (1+0j)|01>\n",
      "CPHASE00 * |10> = (1+0j)|10>\n",
      "CPHASE00 * |11> = (1+0j)|11>\n",
      "\n",
      "CPHASE01 * |00> = (1+0j)|00>\n",
      "CPHASE01 * |01> = (0.8560538887+0.5168865829j)|01>\n",
      "CPHASE01 * |10> = (1+0j)|10>\n",
      "CPHASE01 * |11> = (1+0j)|11>\n",
      "\n",
      "CPHASE10 * |00> = (1+0j)|00>\n",
      "CPHASE10 * |01> = (1+0j)|01>\n",
      "CPHASE10 * |10> = (0.8560538887+0.5168865829j)|10>\n",
      "CPHASE10 * |11> = (1+0j)|11>\n",
      "\n",
      "CPHASE * |00> = (1+0j)|00>\n",
      "CPHASE * |01> = (1+0j)|01>\n",
      "CPHASE * |10> = (1+0j)|10>\n",
      "CPHASE * |11> = (0.8560538887+0.5168865829j)|11>\n",
      "\n",
      "CNOT * |00> = (1+0j)|00>\n",
      "CNOT * |01> = (1+0j)|01>\n",
      "CNOT * |10> = (1+0j)|11>\n",
      "CNOT * |11> = (1+0j)|10>\n",
      "\n",
      "PSWAP * |00> = (1+0j)|00>\n",
      "PSWAP * |01> = (0.8560538887+0.5168865829j)|10>\n",
      "PSWAP * |10> = (0.8560538887+0.5168865829j)|01>\n",
      "PSWAP * |11> = (1+0j)|11>\n",
      "\n",
      "SWAP * |00> = (1+0j)|00>\n",
      "SWAP * |01> = (1+0j)|10>\n",
      "SWAP * |10> = (1+0j)|01>\n",
      "SWAP * |11> = (1+0j)|11>\n",
      "\n",
      "ISWAP * |00> = (1+0j)|00>\n",
      "ISWAP * |01> = 1j|10>\n",
      "ISWAP * |10> = 1j|01>\n",
      "ISWAP * |11> = (1+0j)|11>\n",
      "\n",
      "CZ * |00> = (1+0j)|00>\n",
      "CZ * |01> = (1+0j)|01>\n",
      "CZ * |10> = (1+0j)|10>\n",
      "CZ * |11> = (-1+0j)|11>\n"
     ]
    }
   ],
   "source": [
    "tt = [\n",
    "       (\"CPHASE00\", CPHASE00(theta,1,0))\n",
    "     , (\"CPHASE01\", CPHASE01(theta,1,0))\n",
    "     , (\"CPHASE10\", CPHASE10(theta,1,0))\n",
    "     , (\"CPHASE\", CPHASE(theta,1,0))\n",
    "     , (\"CNOT\", CNOT(1,0))\n",
    "     , (\"PSWAP\", PSWAP(theta,1,0))\n",
    "     , (\"SWAP\", SWAP(1,0))\n",
    "     , (\"ISWAP\", ISWAP(1,0))\n",
    "     , (\"CZ\", CZ(0,1))\n",
    "     ]\n",
    "for (l, o) in tt:\n",
    "    print()\n",
    "    for w in [\"|00>\", \"|01>\", \"|10>\", \"|11>\"]:\n",
    "        p = Program(t[w], o)\n",
    "        print(l, \"*\", w, \"=\", qvm.wavefunction(p))"
   ]
  },
  {
   "cell_type": "code",
   "execution_count": 8,
   "metadata": {},
   "outputs": [
    {
     "name": "stdout",
     "output_type": "stream",
     "text": [
      "\n",
      "CCNOT * |000> = (1+0j)|000>\n",
      "CCNOT * |001> = (1+0j)|001>\n",
      "CCNOT * |010> = (1+0j)|010>\n",
      "CCNOT * |011> = (1+0j)|011>\n",
      "CCNOT * |100> = (1+0j)|100>\n",
      "CCNOT * |101> = (1+0j)|101>\n",
      "CCNOT * |110> = (1+0j)|111>\n",
      "CCNOT * |111> = (1+0j)|110>\n",
      "\n",
      "CSWAP * |000> = (1+0j)|000>\n",
      "CSWAP * |001> = (1+0j)|001>\n",
      "CSWAP * |010> = (1+0j)|010>\n",
      "CSWAP * |011> = (1+0j)|011>\n",
      "CSWAP * |100> = (1+0j)|100>\n",
      "CSWAP * |101> = (1+0j)|110>\n",
      "CSWAP * |110> = (1+0j)|101>\n",
      "CSWAP * |111> = (1+0j)|111>\n"
     ]
    }
   ],
   "source": [
    "tt = [\n",
    "       (\"CCNOT\", CCNOT(2,1,0))\n",
    "     , (\"CSWAP\", CSWAP(2,1,0))\n",
    "     ]\n",
    "for (l, o) in tt:\n",
    "    print()\n",
    "    for w in [\"|000>\", \"|001>\", \"|010>\", \"|011>\", \"|100>\", \"|101>\", \"|110>\", \"|111>\"]:\n",
    "        p = Program(t[w], o)\n",
    "        print(l, \"*\", w, \"=\", qvm.wavefunction(p))"
   ]
  },
  {
   "cell_type": "code",
   "execution_count": 9,
   "metadata": {},
   "outputs": [
    {
     "name": "stdout",
     "output_type": "stream",
     "text": [
      "(0.5+0j)|00> + (0.2701511529+0.4207354924j)|01> + (0.0353686008+0.4987474933j)|10> + (0.4387912809+0.2397127693j)|11>\n"
     ]
    }
   ],
   "source": [
    "print(qvm.wavefunction(Program(H(1), PSWAP(0.5, 1, 0), H(1), PSWAP(1, 1, 0))))"
   ]
  },
  {
   "cell_type": "code",
   "execution_count": 10,
   "metadata": {},
   "outputs": [
    {
     "name": "stdout",
     "output_type": "stream",
     "text": [
      "(0.7071067812+0j)|00> + (0.7071067812+0j)|11>\n"
     ]
    }
   ],
   "source": [
    "print(qvm.wavefunction(Program(H(0), CNOT(0,1))))"
   ]
  },
  {
   "cell_type": "code",
   "execution_count": 32,
   "metadata": {},
   "outputs": [
    {
     "name": "stdout",
     "output_type": "stream",
     "text": [
      "(-0.547418791+0.4475853743j)|01111> + (0.547418791-0.4475853743j)|11111>\n"
     ]
    }
   ],
   "source": [
    "print(qvm.wavefunction(Program(X(4), X(3), X(2), X(1), X(0), H(4), CPHASE(0.1,2,3), T(3), S(2)   )))"
   ]
  },
  {
   "cell_type": "code",
   "execution_count": 49,
   "metadata": {},
   "outputs": [
    {
     "name": "stdout",
     "output_type": "stream",
     "text": [
      "(0.7035741926+0j)|01000> + (0.7035741926+0j)|01011> + -0.0705928859j|01100> + -0.0705928859j|01111>\n"
     ]
    }
   ],
   "source": [
    "print(qvm.wavefunction(Program(X(3), H(0), CNOT(0,1), CNOT(2,4), RX(0.2,2) )))"
   ]
  },
  {
   "cell_type": "code",
   "execution_count": 50,
   "metadata": {},
   "outputs": [
    {
     "name": "stdout",
     "output_type": "stream",
     "text": [
      "(0.7035741926+0j)|01000> + (0.7035741926+0j)|01011> + -0.0705928859j|01100> + -0.0705928859j|01111>\n"
     ]
    }
   ],
   "source": [
    "print(qvm.wavefunction(Program(X(3), H(0), CNOT(0,1), CNOT(2,4), RX(0.2,2), CPHASE(0.1,4,3) )))"
   ]
  },
  {
   "cell_type": "code",
   "execution_count": 51,
   "metadata": {},
   "outputs": [
    {
     "name": "stdout",
     "output_type": "stream",
     "text": [
      "(0.7035741926+0j)|01000> + (0.7035741926+0j)|01011> + -0.0705928859j|01100> + -0.0705928859j|01111>\n"
     ]
    }
   ],
   "source": [
    "print(qvm.wavefunction(Program(X(3), H(0), CNOT(0,1), CNOT(2,4), RX(0.2,2), CPHASE(0.1,4,3), T(4) )))"
   ]
  },
  {
   "cell_type": "code",
   "execution_count": 52,
   "metadata": {},
   "outputs": [
    {
     "name": "stdout",
     "output_type": "stream",
     "text": [
      "(0.7035741926+0j)|01000> + (0.7035741926+0j)|01011> + -0.0705928859j|01100> + -0.0705928859j|01111>\n"
     ]
    }
   ],
   "source": [
    "print(qvm.wavefunction(Program(X(3), H(0), CNOT(0,1), CNOT(2,4), RX(0.2,2), CPHASE(0.1,4,3), T(4), CCNOT(2,4,0) )))"
   ]
  },
  {
   "cell_type": "code",
   "execution_count": 59,
   "metadata": {},
   "outputs": [
    {
     "name": "stdout",
     "output_type": "stream",
     "text": [
      "(0.7035741926+0j)|000> + (0.7035741926+0j)|011> + -0.0705928859j|100> + -0.0705928859j|111>\n"
     ]
    }
   ],
   "source": [
    "print(qvm.wavefunction(Program(H(0), CNOT(0,1), RX(0.2,2)  )))"
   ]
  },
  {
   "cell_type": "code",
   "execution_count": 60,
   "metadata": {},
   "outputs": [
    {
     "name": "stdout",
     "output_type": "stream",
     "text": [
      "(0.7035741926+0j)|000> + (0.4975020826+0.4975020826j)|011> + -0.0705928859j|100> + (0.0499167083-0.0499167083j)|111>\n"
     ]
    }
   ],
   "source": [
    "print(qvm.wavefunction(Program(H(0), CNOT(0,1), RX(0.2,2), T(1)  )))"
   ]
  },
  {
   "cell_type": "code",
   "execution_count": 61,
   "metadata": {
    "collapsed": true
   },
   "outputs": [],
   "source": [
    "zz = qvm.wavefunction(Program(H(0), CNOT(0,1), RX(0.2,2), T(1)  ))"
   ]
  },
  {
   "cell_type": "code",
   "execution_count": 62,
   "metadata": {},
   "outputs": [
    {
     "data": {
      "text/plain": [
       "array([ 0.70357419+0.j        ,  0.00000000+0.j        ,\n",
       "        0.00000000+0.j        ,  0.49750208+0.49750208j,\n",
       "        0.00000000-0.07059289j,  0.00000000+0.j        ,\n",
       "        0.00000000+0.j        ,  0.04991671-0.04991671j])"
      ]
     },
     "execution_count": 62,
     "metadata": {},
     "output_type": "execute_result"
    }
   ],
   "source": [
    "zz.amplitudes"
   ]
  },
  {
   "cell_type": "code",
   "execution_count": 66,
   "metadata": {},
   "outputs": [
    {
     "name": "stdout",
     "output_type": "stream",
     "text": [
      "(0.7035741926+0j)|000> + (0.4975020826+0.4975020826j)|011> + -0.0705928859j|100> + (0.0499167083-0.0499167083j)|111>\n"
     ]
    }
   ],
   "source": [
    "print(zz)"
   ]
  },
  {
   "cell_type": "code",
   "execution_count": 70,
   "metadata": {},
   "outputs": [
    {
     "name": "stdout",
     "output_type": "stream",
     "text": [
      "(0.7071067812+0j)|0> + -0.7071067812j|1>\n"
     ]
    }
   ],
   "source": [
    "print(qvm.wavefunction(Program( RX(3.14159/2,0)  )))"
   ]
  },
  {
   "cell_type": "code",
   "execution_count": 71,
   "metadata": {},
   "outputs": [
    {
     "name": "stdout",
     "output_type": "stream",
     "text": [
      "(0.7071067812+0j)|0> + (0.5-0.5j)|1>\n"
     ]
    }
   ],
   "source": [
    "print(qvm.wavefunction(Program( RX(3.14159/2,0), T(0) )))"
   ]
  },
  {
   "cell_type": "code",
   "execution_count": 72,
   "metadata": {},
   "outputs": [
    {
     "name": "stdout",
     "output_type": "stream",
     "text": [
      "(0.8535533906-0.3535533906j)|0> + (0.1464466094+0.3535533906j)|1>\n"
     ]
    }
   ],
   "source": [
    "print(qvm.wavefunction(Program( RX(3.14159/2,0), T(0), H(0) )))"
   ]
  },
  {
   "cell_type": "code",
   "execution_count": 73,
   "metadata": {},
   "outputs": [
    {
     "name": "stdout",
     "output_type": "stream",
     "text": [
      "(0.8535533906-0.3535533906j)|0> + (-0.3535533906+0.1464466094j)|1>\n"
     ]
    }
   ],
   "source": [
    "print(qvm.wavefunction(Program( RX(3.14159/2,0), T(0), H(0), S(0) )))"
   ]
  },
  {
   "cell_type": "code",
   "execution_count": 75,
   "metadata": {},
   "outputs": [
    {
     "name": "stdout",
     "output_type": "stream",
     "text": [
      "(0.8845856219-0.3664073617j)|0> + (-0.2872987275+0.0267088763j)|1>\n"
     ]
    }
   ],
   "source": [
    "print(qvm.wavefunction(Program( RX(3.14159/2,0), T(0), H(0), S(0), RY(0.2,0), I(0), PHASE(0.3,0) )))"
   ]
  },
  {
   "cell_type": "code",
   "execution_count": 78,
   "metadata": {},
   "outputs": [
    {
     "name": "stdout",
     "output_type": "stream",
     "text": [
      "(0.4975020826-0.4975020826j)|00> + (-0.6223038112+0.3282599747j)|01> + (0.0499167083-0.0499167083j)|10> + (-0.0624386488+0.0329358569j)|11>\n"
     ]
    }
   ],
   "source": [
    "print(qvm.wavefunction(Program( RX(3.14159/2,0), T(1), H(0), S(0), RY(0.2,1), I(0), PHASE(0.3,0)  )))"
   ]
  },
  {
   "cell_type": "code",
   "execution_count": 79,
   "metadata": {},
   "outputs": [
    {
     "name": "stdout",
     "output_type": "stream",
     "text": [
      "(0.9826018081-0.1485057385j)|000> + (-0.0074314809-0.0491710731j)|001> + (0.0985890302-0.0149002746j)|010> + (-0.0007456352-0.0049335635j)|011>\n"
     ]
    }
   ],
   "source": [
    "print(qvm.wavefunction(Program(  RX(0.1,0), RY(0.2,1), RZ(0.3,2)  )))"
   ]
  },
  {
   "cell_type": "code",
   "execution_count": 80,
   "metadata": {},
   "outputs": [
    {
     "name": "stdout",
     "output_type": "stream",
     "text": [
      "(0.9826018081-0.1485057385j)|000> + (-0.0074314809-0.0491710731j)|001> + (0.0966089504+0.024668315j)|100> + (0.0012344446-0.0048344769j)|101>\n"
     ]
    }
   ],
   "source": [
    "print(qvm.wavefunction(Program(  RX(0.1,0), RY(0.2,1), RZ(0.3,2), PSWAP(0.4,2,1)  )))"
   ]
  },
  {
   "cell_type": "code",
   "execution_count": 81,
   "metadata": {},
   "outputs": [
    {
     "name": "stdout",
     "output_type": "stream",
     "text": [
      "(0.9826018081-0.1485057385j)|000> + (-0.0074314809-0.0491710731j)|001> + (0.0966089504+0.024668315j)|100> + (0.0012344446-0.0048344769j)|101>\n"
     ]
    }
   ],
   "source": [
    "print(qvm.wavefunction(Program(  RX(0.1,0), RY(0.2,1), RZ(0.3,2), PSWAP(0.4,2,1), CSWAP(1,0,2) )))"
   ]
  },
  {
   "cell_type": "code",
   "execution_count": 83,
   "metadata": {},
   "outputs": [
    {
     "name": "stdout",
     "output_type": "stream",
     "text": [
      "(0.6895495512+0j)|000> + (0.3846224902-0.0421324285j)|001> + -0.139778614j|010> + (0.315436762-0.0281077871j)|011> + (0.3706679135+0.1109725161j)|100> + (0.0688400876+0.0069070476j)|101> + (-0.3014821854-0.0969478747j)|110> + (-0.0014001279+0.0139545766j)|111>\n"
     ]
    }
   ],
   "source": [
    "print(qvm.wavefunction(Program(  RX(0.1,0), RY(0.2,1), H(0), RZ(0.3,2), H(2), PSWAP(0.4,2,1), CSWAP(1,0,2), H(1) )))"
   ]
  },
  {
   "cell_type": "code",
   "execution_count": 84,
   "metadata": {},
   "outputs": [
    {
     "name": "stdout",
     "output_type": "stream",
     "text": [
      "(0.702694908-0.0351640537j)|00> + (0.702694908+0.0351640537j)|01> + (0.0705046632-0.0035281738j)|10> + (0.0705046632+0.0035281738j)|11>\n"
     ]
    }
   ],
   "source": [
    "print(qvm.wavefunction(Program(  RX(0.1,0), RY(0.2,1), H(0) )))"
   ]
  },
  {
   "cell_type": "code",
   "execution_count": 85,
   "metadata": {},
   "outputs": [
    {
     "name": "stdout",
     "output_type": "stream",
     "text": [
      "(0.4875851636-0.0988384058j)|000> + (0.4950166445-0.0496673327j)|001> + (0.0489216975-0.009916919j)|010> + (0.0496673327-0.0049833555j)|011> + (0.4875851636-0.0988384058j)|100> + (0.4950166445-0.0496673327j)|101> + (0.0489216975-0.009916919j)|110> + (0.0496673327-0.0049833555j)|111>\n"
     ]
    }
   ],
   "source": [
    "print(qvm.wavefunction(Program(  RX(0.1,0), RY(0.2,1), H(0), RZ(0.3,2), H(2)  )))"
   ]
  },
  {
   "cell_type": "code",
   "execution_count": 86,
   "metadata": {},
   "outputs": [
    {
     "name": "stdout",
     "output_type": "stream",
     "text": [
      "(0.6895495512-0.139778614j)|000> + (0.7000592522-0.0702402155j)|001> + (0.0691857281-0.0140246414j)|010> + (0.0702402155-0.007047529j)|011>\n"
     ]
    }
   ],
   "source": [
    "print(qvm.wavefunction(Program(  RX(0.1,0), RY(0.2,1), H(0), RZ(0.3,2)  )))"
   ]
  },
  {
   "cell_type": "code",
   "execution_count": 87,
   "metadata": {},
   "outputs": [
    {
     "name": "stdout",
     "output_type": "stream",
     "text": [
      "(0.6948044017-0.0347691992j)|000> + (0.6948044017+0.0347691992j)|001> + (0.0697129718-0.0034885562j)|010> + (0.0697129718+0.0034885562j)|011> + (0.1050094148-0.0052548505j)|100> + (0.1050094148+0.0052548505j)|101> + (0.0105360852-0.0005272437j)|110> + (0.0105360852+0.0005272437j)|111>\n"
     ]
    }
   ],
   "source": [
    "print(qvm.wavefunction(Program(  RX(0.1,0), RY(0.2,1), H(0), RY(0.3,2)  )))"
   ]
  },
  {
   "cell_type": "code",
   "execution_count": 89,
   "metadata": {},
   "outputs": [
    {
     "name": "stdout",
     "output_type": "stream",
     "text": [
      "(0.4875851636-0.0988384058j)|000> + (0.4950166445-0.0496673327j)|001> + (0.4875851636-0.0988384058j)|010> + (0.4950166445-0.0496673327j)|011> + (0.0489216975+0.009916919j)|100> + (0.0476872529+0.014751396j)|101> + (0.0489216975+0.009916919j)|110> + (0.0476872529+0.014751396j)|111>\n"
     ]
    }
   ],
   "source": [
    "print(qvm.wavefunction(Program(  RX(0.1,0), RY(0.2,1), H(0), RZ(0.3,2), PSWAP(0.4,2,1), CSWAP(1,0,2), H(1)  )))"
   ]
  },
  {
   "cell_type": "code",
   "execution_count": 90,
   "metadata": {},
   "outputs": [
    {
     "name": "stdout",
     "output_type": "stream",
     "text": [
      "(0.9950041653+0.0998334166j)|0000>\n"
     ]
    }
   ],
   "source": [
    "print(qvm.wavefunction(Program(  CPHASE00(0.1,0,1), CPHASE01(0.2,2,3), CPHASE10(0.3,2,1), CPHASE(0.4,3,0)  )))"
   ]
  },
  {
   "cell_type": "code",
   "execution_count": 91,
   "metadata": {},
   "outputs": [
    {
     "name": "stdout",
     "output_type": "stream",
     "text": [
      "(0.7035741926+0.0705928859j)|0000> + (0.6755249098+0.2089643421j)|1000>\n"
     ]
    }
   ],
   "source": [
    "print(qvm.wavefunction(Program(  CPHASE00(0.1,0,1), H(3), CPHASE01(0.2,2,3), CCNOT(3,0,1), CPHASE10(0.3,2,1), CPHASE(0.4,3,0)  )))"
   ]
  },
  {
   "cell_type": "code",
   "execution_count": 95,
   "metadata": {},
   "outputs": [
    {
     "name": "stdout",
     "output_type": "stream",
     "text": [
      "(0.7035741926+0.0705928859j)|0000> + (-0.2089643421+0.6755249098j)|0100>\n"
     ]
    }
   ],
   "source": [
    "print(qvm.wavefunction(Program(  CPHASE00(0.1,0,1), H(3), CPHASE01(0.2,2,3), CCNOT(3,0,1), CPHASE10(0.3,2,1), ISWAP(3,2), PHASE(0.5,3), CPHASE(0.4,3,0), Z(3), CZ(1,3)  )))"
   ]
  },
  {
   "cell_type": "code",
   "execution_count": null,
   "metadata": {
    "collapsed": true
   },
   "outputs": [],
   "source": []
  }
 ],
 "metadata": {
  "kernelspec": {
   "display_name": "Python 3",
   "language": "python",
   "name": "python3"
  },
  "language_info": {
   "codemirror_mode": {
    "name": "ipython",
    "version": 3
   },
   "file_extension": ".py",
   "mimetype": "text/x-python",
   "name": "python",
   "nbconvert_exporter": "python",
   "pygments_lexer": "ipython3",
   "version": "3.6.2"
  }
 },
 "nbformat": 4,
 "nbformat_minor": 2
}
