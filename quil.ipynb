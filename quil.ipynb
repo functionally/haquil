{
 "cells": [
  {
   "cell_type": "code",
   "execution_count": null,
   "metadata": {
    "collapsed": true
   },
   "outputs": [],
   "source": [
    "# Data.Qubit\n",
    "# Data.Int.Util\n",
    "# Language.Quil.Types\n",
    "# Language.Quil.Tests"
   ]
  },
  {
   "cell_type": "code",
   "execution_count": 1,
   "metadata": {},
   "outputs": [],
   "source": [
    "{-# LANGUAGE GeneralizedNewtypeDeriving #-}"
   ]
  },
  {
   "cell_type": "code",
   "execution_count": 212,
   "metadata": {},
   "outputs": [],
   "source": [
    "import Control.Arrow ((&&&), (***), second)\n",
    "import Data.Foldable\n",
    "import Data.Complex\n",
    "import Data.List\n",
    "import Numeric.LinearAlgebra.Array\n",
    "import Numeric.LinearAlgebra.Array.Util\n",
    "import Numeric.LinearAlgebra.Tensor\n",
    "import qualified Data.Vector.Storable as V"
   ]
  },
  {
   "cell_type": "code",
   "execution_count": 3,
   "metadata": {
    "collapsed": true
   },
   "outputs": [],
   "source": [
    "isqrt :: Int -> Int\n",
    "isqrt n = snd . head . dropWhile ((< n) . fst) $ ((^2) &&& id) <$> [0..]"
   ]
  },
  {
   "cell_type": "code",
   "execution_count": 5,
   "metadata": {
    "collapsed": true
   },
   "outputs": [],
   "source": [
    "ilog2 :: Int -> Int\n",
    "ilog2 n = snd . head . dropWhile ((< n) . fst) $ ((2^) &&& id) <$> [0..]"
   ]
  },
  {
   "cell_type": "code",
   "execution_count": 7,
   "metadata": {
    "collapsed": true
   },
   "outputs": [],
   "source": [
    "ilog2sqrt :: Int -> Int\n",
    "ilog2sqrt n = snd . head . dropWhile ((< n) . fst) $ ((^2) . (2^) &&& id) <$> [0..]"
   ]
  },
  {
   "cell_type": "code",
   "execution_count": 37,
   "metadata": {},
   "outputs": [],
   "source": [
    "type Qubit = Int\n",
    "type Amplitude = Complex Double\n",
    "newtype Wavefunction = Wavefunction {wavefunction :: Tensor Amplitude}\n",
    "  deriving (Eq, Floating, Fractional, Num)"
   ]
  },
  {
   "cell_type": "code",
   "execution_count": 220,
   "metadata": {},
   "outputs": [],
   "source": [
    "instance Show Wavefunction where\n",
    "  show =\n",
    "    showTensor wavefunction\n",
    "      $ \\_ (k, v) ->\n",
    "      showAmplitude v ++ \"|\" ++ concatMap show k ++ \">\""
   ]
  },
  {
   "cell_type": "code",
   "execution_count": 68,
   "metadata": {},
   "outputs": [],
   "source": [
    "indexPrefix :: Variant -> Char\n",
    "indexPrefix Contra = 'm'\n",
    "indexPrefix Co     = 'n'\n",
    "indexLabels :: Variant -> [Qubit] -> [(String, String)]\n",
    "indexLabels variant qubits =\n",
    "  let\n",
    "    n = length qubits\n",
    "    o =\n",
    "      case variant of\n",
    "        Contra -> 0\n",
    "        Co     -> n\n",
    "  in\n",
    "    zipWith (\\k v -> (show k, indexPrefix variant : show v)) [(1+o)..] qubits\n",
    "wavefunctionLabels :: Int -> [(String, String)]\n",
    "wavefunctionLabels n = indexLabels Contra [0..(n-1)]\n",
    "operatorLabels :: [Qubit] -> [(String, String)]\n",
    "operatorLabels qubits = indexLabels Contra qubits ++ indexLabels Co qubits"
   ]
  },
  {
   "cell_type": "code",
   "execution_count": 69,
   "metadata": {},
   "outputs": [],
   "source": [
    "toWavefunction :: [Amplitude] -> Wavefunction\n",
    "toWavefunction amplitudes =\n",
    "  let\n",
    "    n = ilog2 $ length amplitudes\n",
    "  in\n",
    "    Wavefunction\n",
    "      . renameExplicit (wavefunctionLabels n)\n",
    "      $ listTensor (replicate n 2) amplitudes\n",
    "groundState :: Qubit -> Wavefunction\n",
    "groundState = toWavefunction . (1 :) . (`replicate` 0) . (+ (-1)) . (2^)"
   ]
  },
  {
   "cell_type": "code",
   "execution_count": 71,
   "metadata": {
    "collapsed": true
   },
   "outputs": [],
   "source": [
    "newtype Operator = Operator {operator :: Tensor (Complex Double)}\n",
    "  deriving (Eq, Floating, Fractional, Num)"
   ]
  },
  {
   "cell_type": "code",
   "execution_count": 218,
   "metadata": {},
   "outputs": [],
   "source": [
    "showAmplitude :: Amplitude -> String\n",
    "showAmplitude (a :+ b)\n",
    "  | b == 0    = show a\n",
    "  | a == 0    = show b ++ \"j\"\n",
    "  | otherwise = \"(\" ++ show a ++ \"+\" ++ show b ++ \"j)\""
   ]
  },
  {
   "cell_type": "code",
   "execution_count": 221,
   "metadata": {},
   "outputs": [],
   "source": [
    "showTensor :: (a -> Tensor Amplitude) -> (Int -> ([Int], Amplitude) -> String) -> a -> String\n",
    "showTensor toTensor format x =\n",
    "    let\n",
    "      x' = toTensor x\n",
    "      n = order x'\n",
    "    in\n",
    "      (++ (filter (/= '\"') . show . fmap tail . filter ((== indexPrefix Contra) . head) $ names x'))\n",
    "      . (++ \" @ \")\n",
    "      . intercalate \" + \"\n",
    "        . fmap (format n)\n",
    "        . filter ((/= 0) . snd)\n",
    "        . zip (fmap reverse . sequence $ replicate n [0, 1])\n",
    "        . V.toList\n",
    "        $ coords x'"
   ]
  },
  {
   "cell_type": "code",
   "execution_count": 246,
   "metadata": {
    "collapsed": true
   },
   "outputs": [],
   "source": [
    "instance Show Operator where\n",
    "  show =\n",
    "    showTensor operator\n",
    "      $ \\n (k, v) ->\n",
    "      let\n",
    "        (k0, k1) = splitAt (n `div` 2) $ concatMap show k\n",
    "      in\n",
    "        showAmplitude v ++ \"|\" ++ k1 ++ \"><\" ++ k0 ++ \"|\""
   ]
  },
  {
   "cell_type": "code",
   "execution_count": 73,
   "metadata": {},
   "outputs": [],
   "source": [
    "asOperator :: [Qubit] -> [Amplitude] -> Operator\n",
    "asOperator qubits amplitudes =\n",
    "  let\n",
    "    n = length qubits\n",
    "  in\n",
    "    Operator\n",
    "      . renameExplicit (operatorLabels qubits)\n",
    "      $ listTensor (replicate n 2 ++ replicate n (-2)) amplitudes"
   ]
  },
  {
   "cell_type": "code",
   "execution_count": 120,
   "metadata": {},
   "outputs": [],
   "source": [
    "mult :: Tensor Amplitude -> Tensor Amplitude -> Tensor Amplitude\n",
    "mult x y =\n",
    "  let\n",
    "    lft  = filter ((== 'n') . head) $ names x\n",
    "    rght = filter ((== 'm') . head) $ names y\n",
    "    cmmn = fmap tail lft `intersect` fmap tail rght\n",
    "    x' = renameExplicit [(i, 'p' : tail i) | i <- filter ((`elem` cmmn) . tail) lft ] x\n",
    "    y' = renameExplicit [(i, 'p' : tail i) | i <- filter ((`elem` cmmn) . tail) rght] y\n",
    "  in\n",
    "    x' * y' "
   ]
  },
  {
   "cell_type": "code",
   "execution_count": 177,
   "metadata": {},
   "outputs": [],
   "source": [
    "(.*.) :: Operator -> Operator -> Operator\n",
    "Operator x .*. Operator y = Operator $ x `mult` y\n",
    "(.*) :: Operator -> Wavefunction -> Wavefunction\n",
    "Operator x .* Wavefunction y = Wavefunction $ x `mult` y\n",
    "(..*) :: Foldable t => t Operator -> Wavefunction -> Wavefunction\n",
    "(..*) = flip . foldl $ flip (.*)"
   ]
  },
  {
   "cell_type": "code",
   "execution_count": 233,
   "metadata": {},
   "outputs": [],
   "source": [
    "data Gate =\n",
    "    I Qubit\n",
    "  | X Qubit\n",
    "  | Y Qubit\n",
    "  | Z Qubit\n",
    "  | H Qubit\n",
    "  | PHASE Double Qubit\n",
    "  | S Qubit\n",
    "  | T Qubit\n",
    "  | CPHASE00 Double Qubit Qubit\n",
    "  | CPHASE01 Double Qubit Qubit\n",
    "  | CPHASE10 Double Qubit Qubit\n",
    "  | CPHASE Double Qubit Qubit\n",
    "  | RX Double Qubit\n",
    "  | RY Double Qubit\n",
    "  | RZ Double Qubit\n",
    "  | CNOT Qubit Qubit\n",
    "  | CCNOT Qubit Qubit Qubit \n",
    "  | PSWAP Double Qubit Qubit\n",
    "  | SWAP Qubit Qubit\n",
    "  | ISWAP Qubit Qubit\n",
    "  | CSWAP Qubit Qubit Qubit\n",
    "  | CZ Qubit Qubit\n",
    "  deriving (Eq, Ord, Read, Show)"
   ]
  },
  {
   "cell_type": "code",
   "execution_count": 234,
   "metadata": {},
   "outputs": [],
   "source": [
    "fromGate :: Gate -> Operator\n",
    "\n",
    "fromGate (I i) =\n",
    "  asOperator [i]\n",
    "    [\n",
    "      1, 0\n",
    "    , 0, 1\n",
    "    ]\n",
    "\n",
    "fromGate (X i) =\n",
    "  asOperator [i]\n",
    "    [\n",
    "      0, 1\n",
    "    , 1, 0\n",
    "    ]\n",
    "\n",
    "fromGate (Y i) =\n",
    "  asOperator [i]\n",
    "    [\n",
    "      0     , 0 :+ (-1)\n",
    "    , 0 :+ 1, 0\n",
    "    ]\n",
    "\n",
    "fromGate (Z i) =\n",
    "  asOperator [i]\n",
    "    [\n",
    "      1, 0\n",
    "    , 0, -1\n",
    "    ]\n",
    "\n",
    "fromGate (H i) =\n",
    "  asOperator [i]\n",
    "    [\n",
    "      1, 1\n",
    "    , 1, -1\n",
    "    ] / sqrt 2\n",
    "\n",
    "fromGate (PHASE theta i) =\n",
    "  asOperator [i]\n",
    "    [\n",
    "      1, 0\n",
    "    , 0, cis theta\n",
    "    ]\n",
    "\n",
    "fromGate (S i) =\n",
    "  asOperator [i]\n",
    "    [\n",
    "      1, 0\n",
    "    , 0, 0 :+ 1\n",
    "    ]\n",
    "\n",
    "fromGate (T i) =\n",
    "  asOperator [i]\n",
    "    [\n",
    "      1, 0\n",
    "    , 0, (1 :+ 1) / sqrt 2\n",
    "    ]\n",
    "\n",
    "fromGate (CPHASE00 theta i j) =\n",
    "  asOperator [i, j]\n",
    "    [\n",
    "      cis theta, 0, 0, 0\n",
    "    , 0        , 1, 0, 0\n",
    "    , 0        , 0, 1, 0\n",
    "    , 0        , 0, 0, 1\n",
    "    ]\n",
    "\n",
    "fromGate (CPHASE01 theta i j) =\n",
    "  asOperator [i, j]\n",
    "    [\n",
    "      1, 0        , 0, 0\n",
    "    , 0, cis theta, 0, 0\n",
    "    , 0, 0        , 1, 0\n",
    "    , 0, 0        , 0, 1\n",
    "    ]\n",
    "\n",
    "fromGate (CPHASE10 theta i j) =\n",
    "  asOperator [i, j]\n",
    "    [\n",
    "      1, 0, 0        , 0\n",
    "    , 0, 1, 0        , 0\n",
    "    , 0, 0, cis theta, 0\n",
    "    , 0, 0, 0        , 1\n",
    "    ]\n",
    "\n",
    "fromGate (CPHASE theta i j) =\n",
    "  asOperator [i, j]\n",
    "    [\n",
    "      1, 0, 0, 0\n",
    "    , 0, 1, 0, 0\n",
    "    , 0, 0, 1, 0\n",
    "    , 0, 0, 0, cis theta\n",
    "    ]\n",
    "\n",
    "fromGate (RX theta i) =\n",
    "  asOperator [i]\n",
    "    [\n",
    "      cos (theta / 2) :+ 0        , 0 :+ (- sin (theta / 2))\n",
    "    , 0 :+ (- sin (theta / 2)), cos (theta / 2) :+ 0\n",
    "    ]\n",
    "\n",
    "fromGate (RY theta i) =\n",
    "  asOperator [i]\n",
    "    [\n",
    "      cos (theta / 2) :+ 0, (- sin (theta / 2)) :+ 0\n",
    "    , sin (theta / 2) :+ 0, cos (theta / 2) :+ 0\n",
    "    ]\n",
    "\n",
    "fromGate (RZ theta i) =\n",
    "  asOperator [i]\n",
    "    [\n",
    "      cis (- theta / 2), 0\n",
    "    , 0                , cis (theta / 2)\n",
    "    ]\n",
    "\n",
    "fromGate (CNOT i j) =\n",
    "  asOperator [i, j]\n",
    "    [\n",
    "      1, 0, 0, 0\n",
    "    , 0, 1, 0, 0\n",
    "    , 0, 0, 0, 1\n",
    "    , 0, 0, 1, 0\n",
    "    ]\n",
    "\n",
    "fromGate (CCNOT i j k) =\n",
    "  asOperator [i, j, k]\n",
    "    [\n",
    "      1, 0, 0, 0, 0, 0, 0, 0\n",
    "    , 0, 1, 0, 0, 0, 0, 0, 0\n",
    "    , 0, 0, 1, 0, 0, 0, 0, 0\n",
    "    , 0, 0, 0, 1, 0, 0, 0, 0\n",
    "    , 0, 0, 0, 0, 1, 0, 0, 0\n",
    "    , 0, 0, 0, 0, 0, 1, 0, 0\n",
    "    , 0, 0, 0, 0, 0, 0, 0, 1\n",
    "    , 0, 0, 0, 0, 0, 0, 1, 0\n",
    "    ]\n",
    "    \n",
    "fromGate (PSWAP theta i j) =\n",
    "  asOperator [i, j]\n",
    "    [\n",
    "      1, 0        , 0        , 0\n",
    "    , 0, 0        , cis theta, 0\n",
    "    , 0, cis theta, 0        , 0\n",
    "    , 0, 0        , 0        , 1\n",
    "    ]\n",
    "    \n",
    "fromGate (SWAP i j) =\n",
    "  asOperator [i, j]\n",
    "    [\n",
    "      1, 0, 0, 0\n",
    "    , 0, 0, 1, 0\n",
    "    , 0, 1, 0, 0\n",
    "    , 0, 0, 0, 1\n",
    "    ]\n",
    "\n",
    "fromGate (ISWAP i j) =\n",
    "  asOperator [i, j]\n",
    "    [\n",
    "      1, 0     , 0     , 0\n",
    "    , 0, 0     , 0 :+ 1, 0\n",
    "    , 0, 0 :+ 1, 0     , 0\n",
    "    , 0, 0     , 0     , 1\n",
    "    ]\n",
    "    \n",
    "fromGate (CSWAP i j k) =\n",
    "  asOperator [i, j, k]\n",
    "    [\n",
    "      1, 0, 0, 0, 0, 0, 0, 0\n",
    "    , 0, 1, 0, 0, 0, 0, 0, 0\n",
    "    , 0, 0, 1, 0, 0, 0, 0, 0\n",
    "    , 0, 0, 0, 1, 0, 0, 0, 0\n",
    "    , 0, 0, 0, 0, 1, 0, 0, 0\n",
    "    , 0, 0, 0, 0, 0, 0, 1, 0\n",
    "    , 0, 0, 0, 0, 0, 1, 0, 0\n",
    "    , 0, 0, 0, 0, 0, 0, 0, 1\n",
    "    ]\n",
    "    \n",
    "fromGate (CZ i j) =\n",
    "  asOperator [i, j]\n",
    "    [\n",
    "      1, 0, 0, 0\n",
    "    , 0, 1, 0, 0\n",
    "    , 0, 0, 1, 0\n",
    "    , 0, 0, 0, -1\n",
    "    ]"
   ]
  },
  {
   "cell_type": "code",
   "execution_count": 235,
   "metadata": {},
   "outputs": [
    {
     "data": {
      "text/plain": [
       "I\n",
       "1.0|0> @ [0] : <0|\n",
       "1.0|1> @ [0] : <1\n",
       "X\n",
       "1.0|1> @ [0] : <0|\n",
       "1.0|0> @ [0] : <1\n",
       "Y\n",
       "1.0j|1> @ [0] : <0|\n",
       "-1.0j|0> @ [0] : <1\n",
       "Z\n",
       "1.0|0> @ [0] : <0|\n",
       "-1.0|1> @ [0] : <1\n",
       "H\n",
       "0.7071067811865475|0> + 0.7071067811865475|1> @ [0] : <0|\n",
       "0.7071067811865475|0> + -0.7071067811865475|1> @ [0] : <1\n",
       "PHASE\n",
       "1.0|0> @ [0] : <0|\n",
       "(0.856053888710673+0.516886582939947j)|1> @ [0] : <1\n",
       "S\n",
       "1.0|0> @ [0] : <0|\n",
       "1.0j|1> @ [0] : <1\n",
       "T\n",
       "1.0|0> @ [0] : <0|\n",
       "(0.7071067811865475+0.7071067811865475j)|1> @ [0] : <1\n",
       "RX\n",
       "0.9633415512451108|0> + -0.2682779447600259j|1> @ [0] : <0|\n",
       "-0.2682779447600259j|0> + 0.9633415512451108|1> @ [0] : <1\n",
       "RY\n",
       "0.9633415512451108|0> + 0.2682779447600259|1> @ [0] : <0|\n",
       "-0.2682779447600259|0> + 0.9633415512451108|1> @ [0] : <1\n",
       "RZ\n",
       "(0.9633415512451108+-0.2682779447600259j)|0> @ [0] : <0|\n",
       "(0.9633415512451108+0.2682779447600259j)|1> @ [0] : <1"
      ]
     },
     "metadata": {},
     "output_type": "display_data"
    }
   ],
   "source": [
    "theta = 0.54321\n",
    "sequence_\n",
    "  [\n",
    "    do\n",
    "      putStrLn l\n",
    "      sequence_\n",
    "        [\n",
    "          putStrLn $ show (fromGate (o 0) .* e) ++ \" : \" ++ s\n",
    "        |\n",
    "          (s, e) <- second toWavefunction  <$> [(\"<0|\", [1,0]), (\"<1\", [0,1])]\n",
    "        ]\n",
    "  |\n",
    "    (l, o) <- [\n",
    "                (\"I\", I)\n",
    "              , (\"X\", X)\n",
    "              , (\"Y\", Y)\n",
    "              , (\"Z\", Z)\n",
    "              , (\"H\", H)\n",
    "              , (\"PHASE\", PHASE theta)\n",
    "              , (\"S\", S)\n",
    "              , (\"T\", T)\n",
    "              , (\"RX\", RX theta)\n",
    "              , (\"RY\", RY theta)\n",
    "              , (\"RZ\", RZ theta)\n",
    "              ]\n",
    "  ]"
   ]
  },
  {
   "cell_type": "code",
   "execution_count": 236,
   "metadata": {},
   "outputs": [
    {
     "data": {
      "text/plain": [
       "CPHASE00\n",
       "(0.856053888710673+0.516886582939947j)|00> @ [0,1] : <00|\n",
       "1.0|10> @ [0,1] : <10|\n",
       "1.0|01> @ [0,1] : <01|\n",
       "1.0|11> @ [0,1] : <11|\n",
       "CPHASE01\n",
       "1.0|00> @ [0,1] : <00|\n",
       "(0.856053888710673+0.516886582939947j)|10> @ [0,1] : <10|\n",
       "1.0|01> @ [0,1] : <01|\n",
       "1.0|11> @ [0,1] : <11|\n",
       "CPHASE10\n",
       "1.0|00> @ [0,1] : <00|\n",
       "1.0|10> @ [0,1] : <10|\n",
       "(0.856053888710673+0.516886582939947j)|01> @ [0,1] : <01|\n",
       "1.0|11> @ [0,1] : <11|\n",
       "CPHASE\n",
       "1.0|00> @ [0,1] : <00|\n",
       "1.0|10> @ [0,1] : <10|\n",
       "1.0|01> @ [0,1] : <01|\n",
       "(0.856053888710673+0.516886582939947j)|11> @ [0,1] : <11|\n",
       "CNOT\n",
       "1.0|00> @ [0,1] : <00|\n",
       "1.0|10> @ [0,1] : <10|\n",
       "1.0|11> @ [0,1] : <01|\n",
       "1.0|01> @ [0,1] : <11|\n",
       "PSWAP\n",
       "1.0|00> @ [0,1] : <00|\n",
       "(0.856053888710673+0.516886582939947j)|01> @ [0,1] : <10|\n",
       "(0.856053888710673+0.516886582939947j)|10> @ [0,1] : <01|\n",
       "1.0|11> @ [0,1] : <11|\n",
       "SWAP\n",
       "1.0|00> @ [0,1] : <00|\n",
       "1.0|01> @ [0,1] : <10|\n",
       "1.0|10> @ [0,1] : <01|\n",
       "1.0|11> @ [0,1] : <11|\n",
       "ISWAP\n",
       "1.0|00> @ [0,1] : <00|\n",
       "1.0j|01> @ [0,1] : <10|\n",
       "1.0j|10> @ [0,1] : <01|\n",
       "1.0|11> @ [0,1] : <11|\n",
       "CZ\n",
       "1.0|00> @ [0,1] : <00|\n",
       "1.0|10> @ [0,1] : <10|\n",
       "1.0|01> @ [0,1] : <01|\n",
       "-1.0|11> @ [0,1] : <11|"
      ]
     },
     "metadata": {},
     "output_type": "display_data"
    }
   ],
   "source": [
    "sequence_\n",
    "  [\n",
    "    do\n",
    "      putStrLn l\n",
    "      sequence_\n",
    "        [\n",
    "          putStrLn $ show (fromGate (o 0 1) .* e) ++ \" : \" ++ s\n",
    "        |\n",
    "          (s, e) <- second toWavefunction  <$> [\n",
    "                                                 (\"<00|\", [1,0,0,0])\n",
    "                                               , (\"<10|\", [0,1,0,0])\n",
    "                                               , (\"<01|\", [0,0,1,0])\n",
    "                                               , (\"<11|\", [0,0,0,1])\n",
    "                                               ]\n",
    "        ]\n",
    "  |\n",
    "    (l, o) <- [\n",
    "                (\"CPHASE00\", CPHASE00 theta)\n",
    "              , (\"CPHASE01\", CPHASE01 theta)\n",
    "              , (\"CPHASE10\", CPHASE10 theta)\n",
    "              , (\"CPHASE\", CPHASE theta)\n",
    "              , (\"CNOT\", CNOT)\n",
    "              , (\"PSWAP\", PSWAP theta)\n",
    "              , (\"SWAP\", SWAP)\n",
    "              , (\"ISWAP\", ISWAP)\n",
    "              , (\"CZ\", CZ)\n",
    "              ]\n",
    "  ]"
   ]
  },
  {
   "cell_type": "code",
   "execution_count": 237,
   "metadata": {},
   "outputs": [
    {
     "data": {
      "text/plain": [
       "CCNOT\n",
       "1.0|000> @ [0,1,2] : <000|\n",
       "1.0|100> @ [0,1,2] : <100|\n",
       "1.0|010> @ [0,1,2] : <010|\n",
       "1.0|110> @ [0,1,2] : <110|\n",
       "1.0|001> @ [0,1,2] : <001|\n",
       "1.0|101> @ [0,1,2] : <101|\n",
       "1.0|111> @ [0,1,2] : <011|\n",
       "1.0|011> @ [0,1,2] : <111|\n",
       "CSWAP\n",
       "1.0|000> @ [0,1,2] : <000|\n",
       "1.0|100> @ [0,1,2] : <100|\n",
       "1.0|010> @ [0,1,2] : <010|\n",
       "1.0|110> @ [0,1,2] : <110|\n",
       "1.0|001> @ [0,1,2] : <001|\n",
       "1.0|011> @ [0,1,2] : <101|\n",
       "1.0|101> @ [0,1,2] : <011|\n",
       "1.0|111> @ [0,1,2] : <111|"
      ]
     },
     "metadata": {},
     "output_type": "display_data"
    }
   ],
   "source": [
    "sequence_\n",
    "  [\n",
    "    do\n",
    "      putStrLn l\n",
    "      sequence_\n",
    "        [\n",
    "          putStrLn $ show (fromGate (o 0 1 2) .* e) ++ \" : \" ++ s\n",
    "        |\n",
    "          (s, e) <- second toWavefunction  <$> [\n",
    "                                                 (\"<000|\", [1,0,0,0,0,0,0,0])\n",
    "                                               , (\"<100|\", [0,1,0,0,0,0,0,0])\n",
    "                                               , (\"<010|\", [0,0,1,0,0,0,0,0])\n",
    "                                               , (\"<110|\", [0,0,0,1,0,0,0,0])\n",
    "                                               , (\"<001|\", [0,0,0,0,1,0,0,0])\n",
    "                                               , (\"<101|\", [0,0,0,0,0,1,0,0])\n",
    "                                               , (\"<011|\", [0,0,0,0,0,0,1,0])\n",
    "                                               , (\"<111|\", [0,0,0,0,0,0,0,1])\n",
    "                                               ]\n",
    "        ]\n",
    "  |\n",
    "    (l, o) <- [\n",
    "                (\"CCNOT\", CCNOT)\n",
    "              , (\"CSWAP\", CSWAP)\n",
    "              ]\n",
    "  ]"
   ]
  },
  {
   "cell_type": "code",
   "execution_count": 248,
   "metadata": {},
   "outputs": [
    {
     "data": {
      "text/plain": [
       "1.0|000><000| + 1.0|100><100| + 1.0|010><010| + 1.0|110><110| + 1.0|001><001| + 1.0|101><101| + 1.0|011><111| + 1.0|111><011| @ [0,1,2]"
      ]
     },
     "metadata": {},
     "output_type": "display_data"
    }
   ],
   "source": [
    "fromGate $ CCNOT 0 1 2"
   ]
  },
  {
   "cell_type": "code",
   "execution_count": 242,
   "metadata": {},
   "outputs": [
    {
     "data": {
      "text/plain": [
       "[0.0 :+ 0.0,0.0 :+ (-1.0),0.0 :+ 1.0,0.0 :+ 0.0]"
      ]
     },
     "metadata": {},
     "output_type": "display_data"
    }
   ],
   "source": [
    "coords . operator . fromGate $ Y 0"
   ]
  },
  {
   "cell_type": "code",
   "execution_count": 243,
   "metadata": {},
   "outputs": [
    {
     "data": {
      "text/plain": [
       "[\"m0\",\"n0\"]"
      ]
     },
     "metadata": {},
     "output_type": "display_data"
    }
   ],
   "source": [
    "names. operator . fromGate $ Y 0"
   ]
  },
  {
   "cell_type": "code",
   "execution_count": null,
   "metadata": {
    "collapsed": true
   },
   "outputs": [],
   "source": [
    "# Y\n",
    "#  1.0j|1> @ [0] : <0|\n",
    "# -1.0j|0> @ [0] : <1|"
   ]
  },
  {
   "cell_type": "code",
   "execution_count": null,
   "metadata": {
    "collapsed": true
   },
   "outputs": [],
   "source": [
    "# |0><0|, |0><1|, |1><0|, |1><1|"
   ]
  },
  {
   "cell_type": "code",
   "execution_count": 250,
   "metadata": {},
   "outputs": [
    {
     "data": {
      "text/plain": [
       "1.0|00><00| + 2.0|00><10| + 3.0|00><01| + 4.0|00><11| + 5.0|10><00| + 6.0|10><10| + 7.0|10><01| + 8.0|10><11| + 9.0|01><00| + 10.0|01><10| + 11.0|01><01| + 12.0|01><11| + 13.0|11><00| + 14.0|11><10| + 15.0|11><01| + 16.0|11><11| @ [0,1]"
      ]
     },
     "metadata": {},
     "output_type": "display_data"
    }
   ],
   "source": [
    "asOperator [0, 1] $ (:+ 0) <$> [1..16]"
   ]
  },
  {
   "cell_type": "code",
   "execution_count": null,
   "metadata": {
    "collapsed": true
   },
   "outputs": [],
   "source": []
  }
 ],
 "metadata": {
  "kernelspec": {
   "display_name": "Haskell",
   "language": "haskell",
   "name": "haskell"
  },
  "language_info": {
   "codemirror_mode": "ihaskell",
   "file_extension": ".hs",
   "name": "haskell",
   "version": "8.0.2"
  }
 },
 "nbformat": 4,
 "nbformat_minor": 2
}
